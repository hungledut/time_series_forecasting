{
 "cells": [
  {
   "cell_type": "code",
   "execution_count": 1,
   "id": "3b3bf6c1",
   "metadata": {},
   "outputs": [
    {
     "ename": "ModuleNotFoundError",
     "evalue": "No module named 'tensorflow'",
     "output_type": "error",
     "traceback": [
      "\u001b[1;31m---------------------------------------------------------------------------\u001b[0m",
      "\u001b[1;31mModuleNotFoundError\u001b[0m                       Traceback (most recent call last)",
      "Cell \u001b[1;32mIn[1], line 1\u001b[0m\n\u001b[1;32m----> 1\u001b[0m \u001b[38;5;28;01mimport\u001b[39;00m \u001b[38;5;21;01mtensorflow\u001b[39;00m \u001b[38;5;28;01mas\u001b[39;00m \u001b[38;5;21;01mtf\u001b[39;00m\n\u001b[0;32m      2\u001b[0m \u001b[38;5;28;01mimport\u001b[39;00m \u001b[38;5;21;01mpandas\u001b[39;00m \u001b[38;5;28;01mas\u001b[39;00m \u001b[38;5;21;01mpd\u001b[39;00m\n\u001b[0;32m      3\u001b[0m \u001b[38;5;28;01mimport\u001b[39;00m \u001b[38;5;21;01mnumpy\u001b[39;00m \u001b[38;5;28;01mas\u001b[39;00m \u001b[38;5;21;01mnp\u001b[39;00m\n",
      "\u001b[1;31mModuleNotFoundError\u001b[0m: No module named 'tensorflow'"
     ]
    }
   ],
   "source": [
    "import tensorflow as tf\n",
    "import pandas as pd\n",
    "import numpy as np\n",
    "import matplotlib.pyplot as plt"
   ]
  },
  {
   "cell_type": "code",
   "execution_count": null,
   "id": "42a1dac2",
   "metadata": {},
   "outputs": [],
   "source": [
    "df = pd.read_excel('data_1000_samples_clean.xlsx')\n",
    "df"
   ]
  },
  {
   "cell_type": "code",
   "execution_count": null,
   "id": "cfccda70",
   "metadata": {},
   "outputs": [],
   "source": []
  },
  {
   "cell_type": "code",
   "execution_count": null,
   "id": "a737cd41",
   "metadata": {},
   "outputs": [],
   "source": []
  },
  {
   "cell_type": "code",
   "execution_count": null,
   "id": "e5241476",
   "metadata": {},
   "outputs": [],
   "source": [
    "train_df = df[['Barometer']][200:248]\n",
    "val_df = df[['Barometer']][248:296]\n",
    "test_df = df[['Barometer']][248:296]"
   ]
  },
  {
   "cell_type": "code",
   "execution_count": null,
   "id": "fd1527b8",
   "metadata": {},
   "outputs": [],
   "source": []
  },
  {
   "cell_type": "code",
   "execution_count": null,
   "id": "52699fd7",
   "metadata": {},
   "outputs": [],
   "source": []
  },
  {
   "cell_type": "code",
   "execution_count": null,
   "id": "da5d4ac3",
   "metadata": {},
   "outputs": [],
   "source": [
    "# train_max = train_df.max()\n",
    "# val_max = val_df.max()\n",
    "# test_max = test_df.max()\n",
    "# max_ = 0\n",
    "# if train_max.Barometer > val_max.Barometer:\n",
    "#     max_ = train_max\n",
    "# else:\n",
    "#     max_ = val_max\n",
    "    \n",
    "# train_df = train_df/ max_\n",
    "# val_df = val_df/ max_\n",
    "# test_df = test_df/ max_"
   ]
  },
  {
   "cell_type": "code",
   "execution_count": null,
   "id": "320062bb",
   "metadata": {},
   "outputs": [],
   "source": []
  },
  {
   "cell_type": "code",
   "execution_count": null,
   "id": "7d0581e0",
   "metadata": {},
   "outputs": [],
   "source": []
  },
  {
   "cell_type": "markdown",
   "id": "a22bc249",
   "metadata": {},
   "source": [
    "### Feature Engineering: Window Features"
   ]
  },
  {
   "cell_type": "code",
   "execution_count": null,
   "id": "c38a6339",
   "metadata": {},
   "outputs": [],
   "source": [
    "class WindowGenerator():\n",
    "    def __init__(self, input_width, label_width, shift,\n",
    "                 train_df, val_df, test_df,\n",
    "                 label_columns=None):\n",
    "\n",
    "        self.train_df = train_df\n",
    "        self.val_df = val_df\n",
    "        self.test_df = test_df\n",
    "\n",
    "        self.label_columns = label_columns # = ['Temp','Wind','Humidity','Barometer']\n",
    "        if label_columns is not None:\n",
    "            self.label_columns_indices = {name: i for i, name in enumerate(label_columns)} #chỉ số label\n",
    "        #{'Temp': 0, 'Wind': 1, 'Humidity': 2, 'Barometer': 3}\n",
    "        \n",
    "        self.column_indices = {name: i for i, name in enumerate(train_df.columns)} \n",
    "        #{'Temp': 0, 'Wind': 1, 'Humidity': 2, 'Barometer': 3}\n",
    "\n",
    "        self.input_width = input_width # = 24\n",
    "        self.label_width = label_width # = 24\n",
    "        self.shift = shift # = 24\n",
    "\n",
    "        self.total_window_size = input_width + shift # = 48\n",
    "\n",
    "        self.input_slice = slice(0, input_width) # slice(0, 24)\n",
    "        self.input_indices = np.arange(self.total_window_size)[self.input_slice] # np.arange(48)[slice(0, 24)]\n",
    "\n",
    "        self.label_start = self.total_window_size - self.label_width # = 24\n",
    "        self.labels_slice = slice(self.label_start, None) # slice(24, 48)\n",
    "        self.label_indices = np.arange(self.total_window_size)[self.labels_slice] # np.arange(48)[slice(24, 48)]\n",
    "\n",
    "    def __repr__(self):\n",
    "        return '\\n'.join([\n",
    "            f'Total window size: {self.total_window_size}',\n",
    "            f'Input indices: {self.input_indices}',\n",
    "            f'Label indices: {self.label_indices}',\n",
    "            f'Label column name(s): {self.label_columns}'\n",
    "        ])\n",
    "\n",
    "    def train(self):\n",
    "        return self.make_dataset(self.train_df)\n",
    "\n",
    "    def val(self):\n",
    "        return self.make_dataset(self.val_df)\n",
    "\n",
    "    def test(self):\n",
    "        return self.make_dataset(self.test_df)"
   ]
  },
  {
   "cell_type": "code",
   "execution_count": null,
   "id": "5c38aee9",
   "metadata": {},
   "outputs": [],
   "source": [
    "# Hàm chia input và output\n",
    "def split_window(self, features):\n",
    "    #Chia dữ liệu thành 2 inputs và labels\n",
    "    inputs = features[:, self.input_slice, :] #input_slice = slice(0, 24)\n",
    "    labels = features[:, self.labels_slice, :] #labels_slice = slice(24, 48)\n",
    "    \n",
    "    #Lấy dữ liệu dựa trên label\n",
    "    if self.label_columns is not None:\n",
    "        # label_columns = ['Temp','Wind','Humidity','Barometer']\n",
    "        # column_indices[Temp] = 0 ; column_indices[Wind] = 1;... \n",
    "        labels = tf.stack( [labels[:, :, self.column_indices[name]] for name in self.label_columns], axis=-1)\n",
    "\n",
    "    # Slicing doesn't preserve static shape information, so set the shapes\n",
    "    # manually. This way the `tf.data.Datasets` are easier to inspect.\n",
    "    inputs.set_shape([None, self.input_width, None])\n",
    "    labels.set_shape([None, self.label_width, None])\n",
    "\n",
    "    return inputs, labels\n",
    "\n",
    "WindowGenerator.split_window = split_window\n"
   ]
  },
  {
   "cell_type": "code",
   "execution_count": null,
   "id": "1f62989f",
   "metadata": {},
   "outputs": [],
   "source": [
    "\n",
    "def make_dataset(self, data):\n",
    "    data = np.array(data, dtype=np.float32) # chuyển dataframe về numpy array\n",
    "    ds = tf.keras.utils.timeseries_dataset_from_array(\n",
    "      data=data,\n",
    "      targets=None,\n",
    "      sequence_length=self.total_window_size,\n",
    "      sequence_stride=1,\n",
    "      shuffle=False,\n",
    "      batch_size=32,)\n",
    "    ds = ds.map(self.split_window)\n",
    "\n",
    "    return ds\n",
    "\n",
    "WindowGenerator.make_dataset = make_dataset"
   ]
  },
  {
   "cell_type": "code",
   "execution_count": null,
   "id": "8057690f",
   "metadata": {},
   "outputs": [],
   "source": [
    "@property\n",
    "def train(self):\n",
    "    return self.make_dataset(self.train_df)\n",
    "\n",
    "@property\n",
    "def val(self):\n",
    "    return self.make_dataset(self.val_df)\n",
    "\n",
    "@property\n",
    "def test(self):\n",
    "    return self.make_dataset(self.test_df)\n",
    "\n",
    "@property\n",
    "def example(self):\n",
    "    \"\"\"Get and cache an example batch of `inputs, labels` for plotting.\"\"\"\n",
    "    result = getattr(self, '_example', None)\n",
    "    if result is None:\n",
    "        # No example batch was found, so get one from the `.train` dataset\n",
    "        result = next(iter(self.test))\n",
    "        # And cache it for next time\n",
    "        self._example = result\n",
    "    return result"
   ]
  },
  {
   "cell_type": "code",
   "execution_count": null,
   "id": "184a580f",
   "metadata": {},
   "outputs": [],
   "source": [
    "WindowGenerator.train = train\n",
    "WindowGenerator.val = val\n",
    "WindowGenerator.test = test\n",
    "WindowGenerator.example = example"
   ]
  },
  {
   "cell_type": "code",
   "execution_count": null,
   "id": "4f651b0a",
   "metadata": {},
   "outputs": [],
   "source": [
    "OUT_STEPS = 24\n",
    "multi_window = WindowGenerator(input_width=24,\n",
    "                               label_width=OUT_STEPS,\n",
    "                               shift=OUT_STEPS,\n",
    "                              train_df = train_df,\n",
    "                              val_df = val_df,\n",
    "                              test_df = test_df,\n",
    "                              label_columns = ['Barometer'])"
   ]
  },
  {
   "cell_type": "code",
   "execution_count": null,
   "id": "1cf49e41",
   "metadata": {},
   "outputs": [],
   "source": [
    "multi_window.__repr__()"
   ]
  },
  {
   "cell_type": "markdown",
   "id": "e46ff5d1",
   "metadata": {},
   "source": [
    "## Training"
   ]
  },
  {
   "cell_type": "code",
   "execution_count": null,
   "id": "4d94fea8",
   "metadata": {},
   "outputs": [],
   "source": [
    "import tensorflow as tf\n",
    "from sklearn.metrics import r2_score\n",
    "MAX_EPOCHS = 200\n",
    "\n",
    "def mean_2(y_true, y_pred):\n",
    "    MAE = tf.reduce_mean(tf.abs(y_true - y_pred))\n",
    "\n",
    "    y_sub = tf.subtract(y_true[:, 1:, :], y_true[:, :-1, :])\n",
    "    y_hat_sub = tf.subtract(y_pred[:, 1:, :], y_pred[:, :-1, :])\n",
    "\n",
    "    n = y_sub.shape[1] + y_sub.shape[2]\n",
    "    \n",
    "    A = y_sub*y_hat_sub + 1\n",
    "    B = tf.sqrt(tf.square(y_sub) + 1)*tf.sqrt(tf.square(y_hat_sub) + 1)\n",
    "    \n",
    "    alpha = 1\n",
    "    \n",
    "    vector_similarity = tf.divide(A,B)\n",
    "    sum_VS = tf.reduce_mean(vector_similarity)\n",
    "    sum_VS = sum_VS*alpha\n",
    "    \n",
    "    MSE_2 = MAE + tf.math.reduce_std(tf.abs(y_true - y_pred))/MAE - sum_VS \n",
    "    \n",
    "    return MSE_2\n",
    "def CV(y_true, y_pred):\n",
    "    MAE = tf.reduce_mean(tf.abs(y_true - y_pred))\n",
    "    MSE_2 = tf.math.reduce_std(tf.abs(y_true - y_pred))/MAE \n",
    "    \n",
    "    return MSE_2\n",
    "\n",
    "def compile_and_fit(model, window, patience=2):\n",
    "    model.compile(loss=tf.losses.MeanSquaredError(),\n",
    "                  optimizer=tf.optimizers.Adam(),\n",
    "                  metrics=[CV,mean_2,tf.metrics.MeanAbsoluteError()])\n",
    "    history = model.fit(window.train, epochs=MAX_EPOCHS,\n",
    "                        validation_data=window.val)\n",
    "    return history\n"
   ]
  },
  {
   "cell_type": "code",
   "execution_count": null,
   "id": "cd62b1f0",
   "metadata": {},
   "outputs": [],
   "source": [
    "class MultiStepLastBaseline(tf.keras.Model):\n",
    "    def call(self, inputs):\n",
    "        return tf.tile(inputs[:, -1:, :], [1, OUT_STEPS, 1])\n",
    "\n",
    "num_features = train_df.shape[1]\n",
    "CONV_WIDTH = 3\n",
    "multi_conv_model = MultiStepLastBaseline()"
   ]
  },
  {
   "cell_type": "code",
   "execution_count": null,
   "id": "0889b9bd",
   "metadata": {},
   "outputs": [],
   "source": [
    "history = compile_and_fit(multi_conv_model, multi_window)"
   ]
  },
  {
   "cell_type": "code",
   "execution_count": null,
   "id": "13484b14",
   "metadata": {},
   "outputs": [],
   "source": [
    "multi_conv_model.summary()"
   ]
  },
  {
   "cell_type": "markdown",
   "id": "77246c29",
   "metadata": {},
   "source": [
    "## Trực quan dữ liệu sau khi Training"
   ]
  },
  {
   "cell_type": "code",
   "execution_count": null,
   "id": "635d1595",
   "metadata": {},
   "outputs": [],
   "source": [
    "def plot(self, model=None, plot_col='Temp', max_subplots=3):\n",
    "    inputs, labels = self.example\n",
    "    plt.figure(figsize=(19, 3))\n",
    "    plot_col_index = self.column_indices[plot_col]\n",
    "    max_n = min(max_subplots, len(inputs))\n",
    "    for n in range(max_n):\n",
    "        plt.subplot(max_n, 1, n+1)\n",
    "        plt.ylabel(f'{plot_col}')\n",
    "        plt.plot(self.input_indices, inputs[n, :, plot_col_index],\n",
    "                 label='Inputs', marker='.', zorder=-10)\n",
    "\n",
    "        if self.label_columns:\n",
    "            label_col_index = self.label_columns_indices.get(plot_col, None)\n",
    "        else:\n",
    "            label_col_index = plot_col_index\n",
    "\n",
    "        if label_col_index is None:\n",
    "            continue\n",
    "\n",
    "        plt.scatter(self.label_indices, labels[n, :, label_col_index],\n",
    "                    edgecolors='k', label='Labels', c='#2ca02c', s=64)\n",
    "        if model is not None:\n",
    "            predictions = model(inputs)\n",
    "            plt.scatter(self.label_indices, predictions[n, :, label_col_index],\n",
    "                        marker='X', edgecolors='k', label='Predictions',\n",
    "                        c='#ff7f0e', s=64)\n",
    "\n",
    "        if n == 0:\n",
    "            plt.legend()\n",
    "\n",
    "    plt.xlabel('Time ')\n",
    "\n",
    "WindowGenerator.plot = plot\n"
   ]
  },
  {
   "cell_type": "markdown",
   "id": "99e3c3d1",
   "metadata": {},
   "source": [
    "### Độ chính xác cao hơn mô hình cũ"
   ]
  },
  {
   "cell_type": "code",
   "execution_count": null,
   "id": "40a6b855",
   "metadata": {},
   "outputs": [],
   "source": [
    "multi_window.plot(multi_conv_model,plot_col='Barometer')"
   ]
  },
  {
   "cell_type": "code",
   "execution_count": null,
   "id": "1d1a34a9",
   "metadata": {},
   "outputs": [],
   "source": [
    "import matplotlib.pyplot as plt\n",
    "# Vẽ đồ thị\n",
    "# Chỉnh kích thước đồ thị\n",
    "plt.plot(history.history['val_CV'], label='CV')\n",
    "plt.plot(history.history['val_mean_2'], label='New Metric')\n",
    "plt.plot(history.history['val_mean_absolute_error'], label='MAE')\n",
    "\n",
    "# Đặt tên trục x và trục y\n",
    "plt.xlabel('epochs')\n",
    "plt.ylabel('loss')\n",
    "\n",
    "# Thêm chú thích\n",
    "plt.legend()\n",
    "plt.figure(figsize=(8, 13))\n",
    "# Hiển thị đồ thị\n",
    "plt.show()"
   ]
  },
  {
   "cell_type": "code",
   "execution_count": null,
   "id": "bc78b5bf",
   "metadata": {},
   "outputs": [],
   "source": [
    "inputs, labels = multi_window.example\n",
    "predict = np.array(multi_conv_model(inputs)).reshape(24,)\n",
    "labels = np.array(labels).reshape(24,)\n",
    "labels.shape"
   ]
  },
  {
   "cell_type": "code",
   "execution_count": null,
   "id": "a6daedc5",
   "metadata": {},
   "outputs": [],
   "source": [
    "from scipy.stats import ks_2samp\n",
    "# Thực hiện kiểm định Kolmogorov-Smirnov\n",
    "statistic, p_value = ks_2samp(predict, labels)\n",
    "\n",
    "# In kết quả\n",
    "print(\"Statistic:\", statistic)\n",
    "print(\"p-value:\", p_value)"
   ]
  },
  {
   "cell_type": "code",
   "execution_count": null,
   "id": "4cd8a8c2",
   "metadata": {},
   "outputs": [],
   "source": [
    "predict.shape"
   ]
  },
  {
   "cell_type": "code",
   "execution_count": null,
   "id": "dd422b32",
   "metadata": {},
   "outputs": [],
   "source": []
  }
 ],
 "metadata": {
  "kernelspec": {
   "display_name": "Python 3 (ipykernel)",
   "language": "python",
   "name": "python3"
  },
  "language_info": {
   "codemirror_mode": {
    "name": "ipython",
    "version": 3
   },
   "file_extension": ".py",
   "mimetype": "text/x-python",
   "name": "python",
   "nbconvert_exporter": "python",
   "pygments_lexer": "ipython3",
   "version": "3.10.9"
  }
 },
 "nbformat": 4,
 "nbformat_minor": 5
}

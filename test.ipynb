{
 "cells": [
  {
   "cell_type": "code",
   "execution_count": 12,
   "id": "8b080dd2",
   "metadata": {},
   "outputs": [
    {
     "name": "stdout",
     "output_type": "stream",
     "text": [
      "WARNING:tensorflow:6 out of the last 6 calls to <function Model.make_predict_function.<locals>.predict_function at 0x000002ABF381B4C0> triggered tf.function retracing. Tracing is expensive and the excessive number of tracings could be due to (1) creating @tf.function repeatedly in a loop, (2) passing tensors with different shapes, (3) passing Python objects instead of tensors. For (1), please define your @tf.function outside of the loop. For (2), @tf.function has reduce_retracing=True option that can avoid unnecessary retracing. For (3), please refer to https://www.tensorflow.org/guide/function#controlling_retracing and https://www.tensorflow.org/api_docs/python/tf/function for  more details.\n",
      "1/1 [==============================] - 0s 118ms/step\n"
     ]
    },
    {
     "data": {
      "image/png": "[encoded data removed]",
      "text/plain": [
       "<Figure size 432x288 with 1 Axes>"
      ]
     },
     "metadata": {
      "needs_background": "light"
     },
     "output_type": "display_data"
    }
   ],
   "source": [
    "import numpy as np\n",
    "import pandas as pd\n",
    "import tensorflow as tf\n",
    "from tensorflow.keras.models import Sequential\n",
    "from tensorflow.keras.layers import LSTM, Dense\n",
    "import matplotlib.pyplot as plt\n",
    "\n",
    "# Chuỗi thời gian đầu vào và đầu ra (ví dụ)\n",
    "input_sequence = np.array([[1, 2, 3, 4, 5],\n",
    "                          [2, 3, 4, 5, 6],\n",
    "                          [3, 4, 5, 6, 7]])\n",
    "output_sequence = np.array([[6, 7, 8, 9, 10, 11, 12],\n",
    "                            [7, 8, 9, 10,11, 12, 13],\n",
    "                            [8, 9, 10,11,12, 13, 14]])\n",
    "\n",
    "# Chuẩn bị dữ liệu huấn luyện\n",
    "X_train = input_sequence.reshape((input_sequence.shape[0], input_sequence.shape[1], 1))\n",
    "y_train = output_sequence\n",
    "\n",
    "# Xây dựng mô hình LSTM\n",
    "model = Sequential()\n",
    "model.add(LSTM(50, activation='relu', input_shape=(input_sequence.shape[1], 1)))\n",
    "model.add(Dense(output_sequence.shape[1]))\n",
    "\n",
    "model.compile(optimizer='adam', loss='mse')\n",
    "\n",
    "# Huấn luyện mô hình\n",
    "model.fit(X_train, y_train, epochs=100, verbose=0)\n",
    "\n",
    "# Dự đoán đầu ra từ chuỗi thời gian đầu vào\n",
    "predicted_output = model.predict(A)\n",
    "\n",
    "# Hiển thị đầu ra dự đoán và thực tế\n",
    "# plt.plot(output_sequence.flatten(), label='Actual')\n",
    "plt.plot(predicted_output.flatten(), label='Predicted')\n",
    "plt.xlabel('Time Step')\n",
    "plt.ylabel('Value')\n",
    "plt.legend()\n",
    "plt.show()"
   ]
  },
  {
   "cell_type": "code",
   "execution_count": 21,
   "id": "6418d436",
   "metadata": {},
   "outputs": [
    {
     "name": "stdout",
     "output_type": "stream",
     "text": [
      "Statistic: 0.8\n",
      "p-value: 0.07936507936507936\n"
     ]
    }
   ],
   "source": [
    "import numpy as np\n",
    "from scipy.stats import ks_2samp\n",
    "\n",
    "# Tạo hai mảng dữ liệu A và B\n",
    "A = np.array([1, 2, 3, 4, 5])\n",
    "B = np.array([2, 40, 6, 8, 10])\n",
    "\n",
    "# Thực hiện kiểm định Kolmogorov-Smirnov\n",
    "statistic, p_value = ks_2samp(A, B)\n",
    "\n",
    "# In kết quả\n",
    "print(\"Statistic:\", statistic)\n",
    "print(\"p-value:\", p_value)"
   ]
  },
  {
   "cell_type": "code",
   "execution_count": 22,
   "id": "36bc53c7",
   "metadata": {},
   "outputs": [
    {
     "data": {
      "text/plain": [
       "(5,)"
      ]
     },
     "execution_count": 22,
     "metadata": {},
     "output_type": "execute_result"
    }
   ],
   "source": [
    "A.shape"
   ]
  },
  {
   "cell_type": "code",
   "execution_count": null,
   "id": "09e71cc6",
   "metadata": {},
   "outputs": [],
   "source": []
  }
 ],
 "metadata": {
  "kernelspec": {
   "display_name": "Python 3 (ipykernel)",
   "language": "python",
   "name": "python3"
  },
  "language_info": {
   "codemirror_mode": {
    "name": "ipython",
    "version": 3
   },
   "file_extension": ".py",
   "mimetype": "text/x-python",
   "name": "python",
   "nbconvert_exporter": "python",
   "pygments_lexer": "ipython3",
   "version": "3.9.12"
  }
 },
 "nbformat": 4,
 "nbformat_minor": 5
}
